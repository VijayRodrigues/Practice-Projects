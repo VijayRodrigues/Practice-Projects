{
 "cells": [
  {
   "cell_type": "markdown",
   "id": "b7ea0cd3",
   "metadata": {
    "id": "b7ea0cd3"
   },
   "source": [
    "# Importing the Libraries"
   ]
  },
  {
   "cell_type": "code",
   "execution_count": 2,
   "id": "PTPWjgXW6wym",
   "metadata": {
    "colab": {
     "base_uri": "https://localhost:8080/"
    },
    "id": "PTPWjgXW6wym",
    "outputId": "2232dfad-64b2-4ecd-a9e7-b93e505bbf54"
   },
   "outputs": [
    {
     "name": "stdout",
     "output_type": "stream",
     "text": [
      "\u001b[K     |████████████████████████████████| 14.4MB 2.0MB/s \n",
      "\u001b[K     |████████████████████████████████| 20.6MB 1.5MB/s \n",
      "\u001b[K     |████████████████████████████████| 71kB 7.9MB/s \n",
      "\u001b[K     |████████████████████████████████| 645kB 23.0MB/s \n",
      "\u001b[K     |████████████████████████████████| 79.9MB 47kB/s \n",
      "\u001b[K     |████████████████████████████████| 194kB 53.0MB/s \n",
      "\u001b[K     |████████████████████████████████| 1.8MB 34.0MB/s \n",
      "\u001b[K     |████████████████████████████████| 51kB 4.1MB/s \n",
      "\u001b[K     |████████████████████████████████| 51kB 4.4MB/s \n",
      "\u001b[K     |████████████████████████████████| 1.1MB 35.3MB/s \n",
      "\u001b[K     |████████████████████████████████| 358kB 51.2MB/s \n",
      "\u001b[K     |████████████████████████████████| 3.7MB 37.4MB/s \n",
      "\u001b[K     |████████████████████████████████| 92kB 7.7MB/s \n",
      "\u001b[K     |████████████████████████████████| 1.8MB 32.5MB/s \n",
      "\u001b[?25h  Building wheel for dash-colorscales (setup.py) ... \u001b[?25l\u001b[?25hdone\n",
      "  Building wheel for dash-daq (setup.py) ... \u001b[?25l\u001b[?25hdone\n",
      "  Building wheel for ppscore (setup.py) ... \u001b[?25l\u001b[?25hdone\n",
      "  Building wheel for dash (setup.py) ... \u001b[?25l\u001b[?25hdone\n",
      "  Building wheel for dash-core-components (setup.py) ... \u001b[?25l\u001b[?25hdone\n",
      "  Building wheel for dash-html-components (setup.py) ... \u001b[?25l\u001b[?25hdone\n",
      "  Building wheel for dash-table (setup.py) ... \u001b[?25l\u001b[?25hdone\n"
     ]
    }
   ],
   "source": [
    "! pip install dtale -q"
   ]
  },
  {
   "cell_type": "code",
   "execution_count": 1,
   "id": "8c73cda7",
   "metadata": {
    "id": "8c73cda7"
   },
   "outputs": [],
   "source": [
    "import pandas as pd\n",
    "import numpy as np\n",
    "\n",
    "from sklearn.preprocessing import StandardScaler\n",
    "\n",
    "from sklearn.tree import DecisionTreeClassifier\n",
    "from sklearn.ensemble import RandomForestClassifier\n",
    "from sklearn.ensemble import GradientBoostingClassifier\n",
    "from sklearn.ensemble import AdaBoostClassifier\n",
    "from sklearn.ensemble import ExtraTreesClassifier\n",
    "\n",
    "from sklearn.model_selection import train_test_split\n",
    "\n",
    "from statsmodels.stats.outliers_influence import variance_inflation_factor\n",
    "from sklearn.model_selection import cross_val_score\n",
    "from sklearn.metrics import accuracy_score, confusion_matrix, classification_report\n",
    "\n",
    "import matplotlib.pyplot as plt\n",
    "import seaborn as sns\n",
    "\n",
    "%matplotlib inline\n",
    "import warnings\n",
    "warnings.filterwarnings(\"ignore\")\n"
   ]
  },
  {
   "cell_type": "markdown",
   "id": "7a575bb2",
   "metadata": {
    "id": "7a575bb2"
   },
   "source": [
    "# Reading the dataset\n",
    "\n",
    "\n",
    "### From the following dataset it's clear all the values are categorical data type and inorder to get it \n",
    "### precessed into ML models we need to convert into numerical values.\n",
    "### Hence we shall proceed with encoding the dataset"
   ]
  },
  {
   "cell_type": "code",
   "execution_count": 3,
   "id": "bc13ee74",
   "metadata": {
    "colab": {
     "base_uri": "https://localhost:8080/",
     "height": 272
    },
    "id": "bc13ee74",
    "outputId": "44ed7de6-ad74-4304-a349-5a5321d93c07"
   },
   "outputs": [
    {
     "data": {
      "text/html": [
       "<div>\n",
       "<style scoped>\n",
       "    .dataframe tbody tr th:only-of-type {\n",
       "        vertical-align: middle;\n",
       "    }\n",
       "\n",
       "    .dataframe tbody tr th {\n",
       "        vertical-align: top;\n",
       "    }\n",
       "\n",
       "    .dataframe thead th {\n",
       "        text-align: right;\n",
       "    }\n",
       "</style>\n",
       "<table border=\"1\" class=\"dataframe\">\n",
       "  <thead>\n",
       "    <tr style=\"text-align: right;\">\n",
       "      <th></th>\n",
       "      <th>PassengerId</th>\n",
       "      <th>Survived</th>\n",
       "      <th>Pclass</th>\n",
       "      <th>Name</th>\n",
       "      <th>Sex</th>\n",
       "      <th>Age</th>\n",
       "      <th>SibSp</th>\n",
       "      <th>Parch</th>\n",
       "      <th>Ticket</th>\n",
       "      <th>Fare</th>\n",
       "      <th>Cabin</th>\n",
       "      <th>Embarked</th>\n",
       "    </tr>\n",
       "  </thead>\n",
       "  <tbody>\n",
       "    <tr>\n",
       "      <th>0</th>\n",
       "      <td>1</td>\n",
       "      <td>0</td>\n",
       "      <td>3</td>\n",
       "      <td>Braund, Mr. Owen Harris</td>\n",
       "      <td>male</td>\n",
       "      <td>22.0</td>\n",
       "      <td>1</td>\n",
       "      <td>0</td>\n",
       "      <td>A/5 21171</td>\n",
       "      <td>7.2500</td>\n",
       "      <td>NaN</td>\n",
       "      <td>S</td>\n",
       "    </tr>\n",
       "    <tr>\n",
       "      <th>1</th>\n",
       "      <td>2</td>\n",
       "      <td>1</td>\n",
       "      <td>1</td>\n",
       "      <td>Cumings, Mrs. John Bradley (Florence Briggs Th...</td>\n",
       "      <td>female</td>\n",
       "      <td>38.0</td>\n",
       "      <td>1</td>\n",
       "      <td>0</td>\n",
       "      <td>PC 17599</td>\n",
       "      <td>71.2833</td>\n",
       "      <td>C85</td>\n",
       "      <td>C</td>\n",
       "    </tr>\n",
       "    <tr>\n",
       "      <th>2</th>\n",
       "      <td>3</td>\n",
       "      <td>1</td>\n",
       "      <td>3</td>\n",
       "      <td>Heikkinen, Miss. Laina</td>\n",
       "      <td>female</td>\n",
       "      <td>26.0</td>\n",
       "      <td>0</td>\n",
       "      <td>0</td>\n",
       "      <td>STON/O2. 3101282</td>\n",
       "      <td>7.9250</td>\n",
       "      <td>NaN</td>\n",
       "      <td>S</td>\n",
       "    </tr>\n",
       "    <tr>\n",
       "      <th>3</th>\n",
       "      <td>4</td>\n",
       "      <td>1</td>\n",
       "      <td>1</td>\n",
       "      <td>Futrelle, Mrs. Jacques Heath (Lily May Peel)</td>\n",
       "      <td>female</td>\n",
       "      <td>35.0</td>\n",
       "      <td>1</td>\n",
       "      <td>0</td>\n",
       "      <td>113803</td>\n",
       "      <td>53.1000</td>\n",
       "      <td>C123</td>\n",
       "      <td>S</td>\n",
       "    </tr>\n",
       "    <tr>\n",
       "      <th>4</th>\n",
       "      <td>5</td>\n",
       "      <td>0</td>\n",
       "      <td>3</td>\n",
       "      <td>Allen, Mr. William Henry</td>\n",
       "      <td>male</td>\n",
       "      <td>35.0</td>\n",
       "      <td>0</td>\n",
       "      <td>0</td>\n",
       "      <td>373450</td>\n",
       "      <td>8.0500</td>\n",
       "      <td>NaN</td>\n",
       "      <td>S</td>\n",
       "    </tr>\n",
       "  </tbody>\n",
       "</table>\n",
       "</div>"
      ],
      "text/plain": [
       "   PassengerId  Survived  Pclass  \\\n",
       "0            1         0       3   \n",
       "1            2         1       1   \n",
       "2            3         1       3   \n",
       "3            4         1       1   \n",
       "4            5         0       3   \n",
       "\n",
       "                                                Name     Sex   Age  SibSp  \\\n",
       "0                            Braund, Mr. Owen Harris    male  22.0      1   \n",
       "1  Cumings, Mrs. John Bradley (Florence Briggs Th...  female  38.0      1   \n",
       "2                             Heikkinen, Miss. Laina  female  26.0      0   \n",
       "3       Futrelle, Mrs. Jacques Heath (Lily May Peel)  female  35.0      1   \n",
       "4                           Allen, Mr. William Henry    male  35.0      0   \n",
       "\n",
       "   Parch            Ticket     Fare Cabin Embarked  \n",
       "0      0         A/5 21171   7.2500   NaN        S  \n",
       "1      0          PC 17599  71.2833   C85        C  \n",
       "2      0  STON/O2. 3101282   7.9250   NaN        S  \n",
       "3      0            113803  53.1000  C123        S  \n",
       "4      0            373450   8.0500   NaN        S  "
      ]
     },
     "execution_count": 3,
     "metadata": {},
     "output_type": "execute_result"
    }
   ],
   "source": [
    "df = pd.read_csv(\"D:/titanic_train.csv\")\n",
    "df.head()"
   ]
  },
  {
   "cell_type": "markdown",
   "id": "JyMLELU4PaUs",
   "metadata": {
    "id": "JyMLELU4PaUs"
   },
   "source": [
    "# We can see we have a total of 891 rows and 12 columns"
   ]
  },
  {
   "cell_type": "code",
   "execution_count": 4,
   "id": "8AMwHc3T9crH",
   "metadata": {
    "colab": {
     "base_uri": "https://localhost:8080/"
    },
    "id": "8AMwHc3T9crH",
    "outputId": "acc1fec6-cc4f-4609-966a-b0244b6efec3"
   },
   "outputs": [
    {
     "data": {
      "text/plain": [
       "(891, 12)"
      ]
     },
     "execution_count": 4,
     "metadata": {},
     "output_type": "execute_result"
    }
   ],
   "source": [
    "df.shape"
   ]
  },
  {
   "cell_type": "markdown",
   "id": "9e207148",
   "metadata": {},
   "source": [
    "# Preprocessing"
   ]
  },
  {
   "cell_type": "markdown",
   "id": "ODQWUdUE8Jge",
   "metadata": {
    "id": "ODQWUdUE8Jge"
   },
   "source": [
    "## EDA using dtale library\n",
    "\n",
    "####( some systems do not support this, kindly ignore this if the link doesn't open in your system)"
   ]
  },
  {
   "cell_type": "code",
   "execution_count": 5,
   "id": "Q8YVCNxAtUF6",
   "metadata": {
    "colab": {
     "base_uri": "https://localhost:8080/"
    },
    "id": "Q8YVCNxAtUF6",
    "outputId": "6699434d-097f-41f8-b710-6ca91ba9c9cc"
   },
   "outputs": [
    {
     "name": "stderr",
     "output_type": "stream",
     "text": [
      "2021-07-18 13:31:57,106 - INFO     - NumExpr defaulting to 4 threads.\n"
     ]
    },
    {
     "data": {
      "text/html": [
       "\n",
       "        <iframe\n",
       "            width=\"100%\"\n",
       "            height=\"475\"\n",
       "            src=\"http://DESKTOP-FI7BTJS:40000/dtale/iframe/1\"\n",
       "            frameborder=\"0\"\n",
       "            allowfullscreen\n",
       "        ></iframe>\n",
       "        "
      ],
      "text/plain": [
       "<IPython.lib.display.IFrame at 0x18ca2b162e0>"
      ]
     },
     "metadata": {},
     "output_type": "display_data"
    },
    {
     "data": {
      "text/plain": []
     },
     "execution_count": 5,
     "metadata": {},
     "output_type": "execute_result"
    }
   ],
   "source": [
    "import dtale\n",
    "d_tale =  dtale.show(df)\n",
    "d_tale"
   ]
  },
  {
   "cell_type": "markdown",
   "id": "DRUk0dl49K0o",
   "metadata": {
    "id": "DRUk0dl49K0o"
   },
   "source": [
    "# Let's check the information of the dataset\n",
    "\n",
    "#### We have 5 columns with object type, 2 columns with float type and the remaining 5 columns have int datatype\n",
    "\n",
    "#### We can also see the columns \"Age\" and \"Cabin\" have missing values and we need to impute to proceed further"
   ]
  },
  {
   "cell_type": "code",
   "execution_count": 6,
   "id": "PR1fqD43tUPz",
   "metadata": {
    "colab": {
     "base_uri": "https://localhost:8080/"
    },
    "id": "PR1fqD43tUPz",
    "outputId": "dfd857c7-77fe-4a74-d48a-32eb0605399d"
   },
   "outputs": [
    {
     "name": "stdout",
     "output_type": "stream",
     "text": [
      "<class 'pandas.core.frame.DataFrame'>\n",
      "RangeIndex: 891 entries, 0 to 890\n",
      "Data columns (total 12 columns):\n",
      " #   Column       Non-Null Count  Dtype  \n",
      "---  ------       --------------  -----  \n",
      " 0   PassengerId  891 non-null    int64  \n",
      " 1   Survived     891 non-null    int64  \n",
      " 2   Pclass       891 non-null    int64  \n",
      " 3   Name         891 non-null    object \n",
      " 4   Sex          891 non-null    object \n",
      " 5   Age          714 non-null    float64\n",
      " 6   SibSp        891 non-null    int64  \n",
      " 7   Parch        891 non-null    int64  \n",
      " 8   Ticket       891 non-null    object \n",
      " 9   Fare         891 non-null    float64\n",
      " 10  Cabin        204 non-null    object \n",
      " 11  Embarked     889 non-null    object \n",
      "dtypes: float64(2), int64(5), object(5)\n",
      "memory usage: 83.7+ KB\n"
     ]
    }
   ],
   "source": [
    "df.info()"
   ]
  },
  {
   "cell_type": "code",
   "execution_count": 7,
   "id": "zjycMre8uy5B",
   "metadata": {
    "colab": {
     "base_uri": "https://localhost:8080/"
    },
    "id": "zjycMre8uy5B",
    "outputId": "54274173-548d-42e1-d8ae-fff5e129996a"
   },
   "outputs": [
    {
     "data": {
      "text/plain": [
       "PassengerId      0\n",
       "Survived         0\n",
       "Pclass           0\n",
       "Name             0\n",
       "Sex              0\n",
       "Age            177\n",
       "SibSp            0\n",
       "Parch            0\n",
       "Ticket           0\n",
       "Fare             0\n",
       "Cabin          687\n",
       "Embarked         2\n",
       "dtype: int64"
      ]
     },
     "execution_count": 7,
     "metadata": {},
     "output_type": "execute_result"
    }
   ],
   "source": [
    "df.isnull().sum()"
   ]
  },
  {
   "cell_type": "markdown",
   "id": "RFgdDtw0-Fg1",
   "metadata": {
    "id": "RFgdDtw0-Fg1"
   },
   "source": [
    "# Lets create a graph to obsrve the outcome of col \"Survived\"\n",
    "\n",
    "\n",
    "### We understand very few people were saved (1) and majority of the paasengers died in that accident (0)"
   ]
  },
  {
   "cell_type": "code",
   "execution_count": 8,
   "id": "-X6tDy8q92L3",
   "metadata": {
    "colab": {
     "base_uri": "https://localhost:8080/",
     "height": 296
    },
    "id": "-X6tDy8q92L3",
    "outputId": "28fed284-35c9-4f68-fb66-3c3b29aa8ff5"
   },
   "outputs": [
    {
     "data": {
      "text/plain": [
       "<AxesSubplot:xlabel='Survived', ylabel='count'>"
      ]
     },
     "execution_count": 8,
     "metadata": {},
     "output_type": "execute_result"
    },
    {
     "data": {
      "image/png": "[encoded data removed]",
      "text/plain": [
       "<Figure size 432x288 with 1 Axes>"
      ]
     },
     "metadata": {},
     "output_type": "display_data"
    }
   ],
   "source": [
    "sns.set_style(\"whitegrid\")\n",
    "sns.countplot(x=\"Survived\", data=df)"
   ]
  },
  {
   "cell_type": "markdown",
   "id": "YmbXw6cl-y4k",
   "metadata": {
    "id": "YmbXw6cl-y4k"
   },
   "source": [
    "## Deduce the above graph to identify further stats on specific feature.\n",
    "\n",
    "### I want to see how the survival rate based on \"Sex\"\n",
    "\n",
    "### From this we can see, the majority of the \"Male\" passengers did not survie compared to \"Females\""
   ]
  },
  {
   "cell_type": "code",
   "execution_count": 9,
   "id": "0fMuIqJA-pzX",
   "metadata": {
    "colab": {
     "base_uri": "https://localhost:8080/",
     "height": 296
    },
    "id": "0fMuIqJA-pzX",
    "outputId": "d9672e88-27e2-4c74-f594-71ba3700502b"
   },
   "outputs": [
    {
     "data": {
      "text/plain": [
       "<AxesSubplot:xlabel='Survived', ylabel='count'>"
      ]
     },
     "execution_count": 9,
     "metadata": {},
     "output_type": "execute_result"
    },
    {
     "data": {
      "image/png": "[encoded data removed]",
      "text/plain": [
       "<Figure size 432x288 with 1 Axes>"
      ]
     },
     "metadata": {},
     "output_type": "display_data"
    }
   ],
   "source": [
    "sns.set_style(\"whitegrid\")\n",
    "sns.countplot(x=\"Survived\", hue=\"Sex\", data=df)"
   ]
  },
  {
   "cell_type": "markdown",
   "id": "2ZDDaf3s_cDu",
   "metadata": {
    "id": "2ZDDaf3s_cDu"
   },
   "source": [
    "# Let us now understand if there is an relationship with the survival rate of passengers and the compartment / class they resided in\n",
    "\n",
    "##### Pclass 1 - High Class\n",
    "##### Pclass 2 -  Middle Class\n",
    "##### Pclass 3 - Lower class\n",
    "\n",
    "### We can see that passengers from Pclass 3 have lost lives more than the other passengers\n",
    "\n",
    "### But when it comes to survival, Pclass 3 passengers have sligjtly higher number that Pclass 2 passengers"
   ]
  },
  {
   "cell_type": "code",
   "execution_count": 10,
   "id": "ehunXY0l_WGz",
   "metadata": {
    "colab": {
     "base_uri": "https://localhost:8080/",
     "height": 296
    },
    "id": "ehunXY0l_WGz",
    "outputId": "42dc09f3-0de1-4ae1-ed64-747a48a6b935"
   },
   "outputs": [
    {
     "data": {
      "text/plain": [
       "<AxesSubplot:xlabel='Survived', ylabel='count'>"
      ]
     },
     "execution_count": 10,
     "metadata": {},
     "output_type": "execute_result"
    },
    {
     "data": {
      "image/png": "[encoded data removed]",
      "text/plain": [
       "<Figure size 432x288 with 1 Axes>"
      ]
     },
     "metadata": {},
     "output_type": "display_data"
    }
   ],
   "source": [
    "sns.set_style(\"whitegrid\")\n",
    "sns.countplot(x=\"Survived\", hue=\"Pclass\", data=df)"
   ]
  },
  {
   "cell_type": "markdown",
   "id": "WVZFo1ANASRj",
   "metadata": {
    "id": "WVZFo1ANASRj"
   },
   "source": [
    "# Lets check the distribution of the Age of teh passengers\n",
    "\n",
    "## We can see the majority of the passengers were in the mid 20's, 30's and 40's. So basically from teenagers to middle aged in general. \n",
    "\n",
    "### Very few in the older section and children appear to be roughly aroud 5 years of age, give or take"
   ]
  },
  {
   "cell_type": "code",
   "execution_count": 11,
   "id": "3G0ToyUhARyP",
   "metadata": {
    "colab": {
     "base_uri": "https://localhost:8080/",
     "height": 296
    },
    "id": "3G0ToyUhARyP",
    "outputId": "cf800b1e-5a1f-4c70-d124-c26ae80a0fe8"
   },
   "outputs": [
    {
     "data": {
      "text/plain": [
       "<AxesSubplot:xlabel='Age'>"
      ]
     },
     "execution_count": 11,
     "metadata": {},
     "output_type": "execute_result"
    },
    {
     "data": {
      "image/png": "[encoded data removed]",
      "text/plain": [
       "<Figure size 432x288 with 1 Axes>"
      ]
     },
     "metadata": {},
     "output_type": "display_data"
    }
   ],
   "source": [
    "sns.distplot(df[\"Age\"], kde=False, color=\"darkred\", bins=40)"
   ]
  },
  {
   "cell_type": "markdown",
   "id": "W9_IRy1yBxvW",
   "metadata": {
    "id": "W9_IRy1yBxvW"
   },
   "source": [
    "# Let's compare the features \"Pclass\" and \"Age\" using Box plots\n",
    "\n",
    "## We can see there are outliers in Pclass 2 and Pclass 3"
   ]
  },
  {
   "cell_type": "code",
   "execution_count": 12,
   "id": "4LdFSQURBxUA",
   "metadata": {
    "colab": {
     "base_uri": "https://localhost:8080/",
     "height": 459
    },
    "id": "4LdFSQURBxUA",
    "outputId": "ef28782a-497d-4a0c-ca85-260cfff0e55c"
   },
   "outputs": [
    {
     "data": {
      "text/plain": [
       "<AxesSubplot:xlabel='Pclass', ylabel='Age'>"
      ]
     },
     "execution_count": 12,
     "metadata": {},
     "output_type": "execute_result"
    },
    {
     "data": {
      "image/png": "[encoded data removed]",
      "text/plain": [
       "<Figure size 864x504 with 1 Axes>"
      ]
     },
     "metadata": {},
     "output_type": "display_data"
    }
   ],
   "source": [
    "plt.figure(figsize=(12,7))\n",
    "sns.boxplot(x=\"Pclass\", y=\"Age\", data=df)"
   ]
  },
  {
   "cell_type": "markdown",
   "id": "6PUhADXrN59p",
   "metadata": {
    "id": "6PUhADXrN59p"
   },
   "source": [
    "# Stats of the all the features"
   ]
  },
  {
   "cell_type": "code",
   "execution_count": 13,
   "id": "OrQGb2_5tUSq",
   "metadata": {
    "colab": {
     "base_uri": "https://localhost:8080/",
     "height": 297
    },
    "id": "OrQGb2_5tUSq",
    "outputId": "37418481-e96f-48eb-c6f2-cd0cb8b78283"
   },
   "outputs": [
    {
     "data": {
      "text/html": [
       "<div>\n",
       "<style scoped>\n",
       "    .dataframe tbody tr th:only-of-type {\n",
       "        vertical-align: middle;\n",
       "    }\n",
       "\n",
       "    .dataframe tbody tr th {\n",
       "        vertical-align: top;\n",
       "    }\n",
       "\n",
       "    .dataframe thead th {\n",
       "        text-align: right;\n",
       "    }\n",
       "</style>\n",
       "<table border=\"1\" class=\"dataframe\">\n",
       "  <thead>\n",
       "    <tr style=\"text-align: right;\">\n",
       "      <th></th>\n",
       "      <th>PassengerId</th>\n",
       "      <th>Survived</th>\n",
       "      <th>Pclass</th>\n",
       "      <th>Age</th>\n",
       "      <th>SibSp</th>\n",
       "      <th>Parch</th>\n",
       "      <th>Fare</th>\n",
       "    </tr>\n",
       "  </thead>\n",
       "  <tbody>\n",
       "    <tr>\n",
       "      <th>count</th>\n",
       "      <td>891.000000</td>\n",
       "      <td>891.000000</td>\n",
       "      <td>891.000000</td>\n",
       "      <td>714.000000</td>\n",
       "      <td>891.000000</td>\n",
       "      <td>891.000000</td>\n",
       "      <td>891.000000</td>\n",
       "    </tr>\n",
       "    <tr>\n",
       "      <th>mean</th>\n",
       "      <td>446.000000</td>\n",
       "      <td>0.383838</td>\n",
       "      <td>2.308642</td>\n",
       "      <td>29.699118</td>\n",
       "      <td>0.523008</td>\n",
       "      <td>0.381594</td>\n",
       "      <td>32.204208</td>\n",
       "    </tr>\n",
       "    <tr>\n",
       "      <th>std</th>\n",
       "      <td>257.353842</td>\n",
       "      <td>0.486592</td>\n",
       "      <td>0.836071</td>\n",
       "      <td>14.526497</td>\n",
       "      <td>1.102743</td>\n",
       "      <td>0.806057</td>\n",
       "      <td>49.693429</td>\n",
       "    </tr>\n",
       "    <tr>\n",
       "      <th>min</th>\n",
       "      <td>1.000000</td>\n",
       "      <td>0.000000</td>\n",
       "      <td>1.000000</td>\n",
       "      <td>0.420000</td>\n",
       "      <td>0.000000</td>\n",
       "      <td>0.000000</td>\n",
       "      <td>0.000000</td>\n",
       "    </tr>\n",
       "    <tr>\n",
       "      <th>25%</th>\n",
       "      <td>223.500000</td>\n",
       "      <td>0.000000</td>\n",
       "      <td>2.000000</td>\n",
       "      <td>20.125000</td>\n",
       "      <td>0.000000</td>\n",
       "      <td>0.000000</td>\n",
       "      <td>7.910400</td>\n",
       "    </tr>\n",
       "    <tr>\n",
       "      <th>50%</th>\n",
       "      <td>446.000000</td>\n",
       "      <td>0.000000</td>\n",
       "      <td>3.000000</td>\n",
       "      <td>28.000000</td>\n",
       "      <td>0.000000</td>\n",
       "      <td>0.000000</td>\n",
       "      <td>14.454200</td>\n",
       "    </tr>\n",
       "    <tr>\n",
       "      <th>75%</th>\n",
       "      <td>668.500000</td>\n",
       "      <td>1.000000</td>\n",
       "      <td>3.000000</td>\n",
       "      <td>38.000000</td>\n",
       "      <td>1.000000</td>\n",
       "      <td>0.000000</td>\n",
       "      <td>31.000000</td>\n",
       "    </tr>\n",
       "    <tr>\n",
       "      <th>max</th>\n",
       "      <td>891.000000</td>\n",
       "      <td>1.000000</td>\n",
       "      <td>3.000000</td>\n",
       "      <td>80.000000</td>\n",
       "      <td>8.000000</td>\n",
       "      <td>6.000000</td>\n",
       "      <td>512.329200</td>\n",
       "    </tr>\n",
       "  </tbody>\n",
       "</table>\n",
       "</div>"
      ],
      "text/plain": [
       "       PassengerId    Survived      Pclass         Age       SibSp  \\\n",
       "count   891.000000  891.000000  891.000000  714.000000  891.000000   \n",
       "mean    446.000000    0.383838    2.308642   29.699118    0.523008   \n",
       "std     257.353842    0.486592    0.836071   14.526497    1.102743   \n",
       "min       1.000000    0.000000    1.000000    0.420000    0.000000   \n",
       "25%     223.500000    0.000000    2.000000   20.125000    0.000000   \n",
       "50%     446.000000    0.000000    3.000000   28.000000    0.000000   \n",
       "75%     668.500000    1.000000    3.000000   38.000000    1.000000   \n",
       "max     891.000000    1.000000    3.000000   80.000000    8.000000   \n",
       "\n",
       "            Parch        Fare  \n",
       "count  891.000000  891.000000  \n",
       "mean     0.381594   32.204208  \n",
       "std      0.806057   49.693429  \n",
       "min      0.000000    0.000000  \n",
       "25%      0.000000    7.910400  \n",
       "50%      0.000000   14.454200  \n",
       "75%      0.000000   31.000000  \n",
       "max      6.000000  512.329200  "
      ]
     },
     "execution_count": 13,
     "metadata": {},
     "output_type": "execute_result"
    }
   ],
   "source": [
    "df.describe()"
   ]
  },
  {
   "cell_type": "markdown",
   "id": "PbxIMecEOBm9",
   "metadata": {
    "id": "PbxIMecEOBm9"
   },
   "source": [
    "# Heatmap to check missing values\n",
    "\n",
    "## We can see columns \"Age\" and \"Cabin\" have misisng values"
   ]
  },
  {
   "cell_type": "code",
   "execution_count": 14,
   "id": "6XB0X47VFt6n",
   "metadata": {
    "colab": {
     "base_uri": "https://localhost:8080/",
     "height": 333
    },
    "id": "6XB0X47VFt6n",
    "outputId": "478f74d8-7c73-4f93-9b73-f6d3ec8eebf2"
   },
   "outputs": [
    {
     "data": {
      "text/plain": [
       "<AxesSubplot:>"
      ]
     },
     "execution_count": 14,
     "metadata": {},
     "output_type": "execute_result"
    },
    {
     "data": {
      "image/png": "[encoded data removed]",
      "text/plain": [
       "<Figure size 432x288 with 1 Axes>"
      ]
     },
     "metadata": {},
     "output_type": "display_data"
    }
   ],
   "source": [
    "sns.heatmap(df.isnull(), yticklabels=False, cbar=False, cmap=\"viridis\")"
   ]
  },
  {
   "cell_type": "markdown",
   "id": "K7OToXqCOAwq",
   "metadata": {
    "id": "K7OToXqCOAwq"
   },
   "source": [
    "# Imputing \"Age\" column with respect to the average age of \"Pclass\""
   ]
  },
  {
   "cell_type": "code",
   "execution_count": 18,
   "id": "qGNwnLThExmu",
   "metadata": {
    "id": "qGNwnLThExmu"
   },
   "outputs": [],
   "source": [
    "def impute_age(cols):\n",
    "    age = cols[0]\n",
    "    Pclass = cols[1]\n",
    "\n",
    "    if pd.isnull(age):\n",
    "\n",
    "        if Pclass == 1:\n",
    "            return 37\n",
    "        elif Pclass == 2:\n",
    "            return 29\n",
    "        else:\n",
    "            return 24\n",
    "    else:\n",
    "        return age"
   ]
  },
  {
   "cell_type": "code",
   "execution_count": 19,
   "id": "hKs4KPCQtUVS",
   "metadata": {
    "id": "hKs4KPCQtUVS"
   },
   "outputs": [],
   "source": [
    "df[\"Age\"] = df[[\"Age\",\"Pclass\"]].apply(impute_age, axis =1)"
   ]
  },
  {
   "cell_type": "markdown",
   "id": "GtzhZxHWOVEO",
   "metadata": {
    "id": "GtzhZxHWOVEO"
   },
   "source": [
    "# Heatmap to check missing values post imputing"
   ]
  },
  {
   "cell_type": "code",
   "execution_count": 20,
   "id": "fll7QNkQtUXn",
   "metadata": {
    "colab": {
     "base_uri": "https://localhost:8080/",
     "height": 333
    },
    "id": "fll7QNkQtUXn",
    "outputId": "4ce50f1b-79ca-47e8-bfd9-c67f1c0787d1"
   },
   "outputs": [
    {
     "data": {
      "text/plain": [
       "<AxesSubplot:>"
      ]
     },
     "execution_count": 20,
     "metadata": {},
     "output_type": "execute_result"
    },
    {
     "data": {
      "image/png": "[encoded data removed]",
      "text/plain": [
       "<Figure size 432x288 with 1 Axes>"
      ]
     },
     "metadata": {},
     "output_type": "display_data"
    }
   ],
   "source": [
    "sns.heatmap(df.isnull(), yticklabels=False, cbar=False, cmap=\"viridis\")"
   ]
  },
  {
   "cell_type": "markdown",
   "id": "B-ruRR1NOZcd",
   "metadata": {
    "id": "B-ruRR1NOZcd"
   },
   "source": [
    "# We can now proceed to drop columns \n",
    "\n",
    "### Column \"Cabin\" has many misisng values hence we will drop this column altogether\n",
    "### Columns \"PassengerId\", \"Name\" and \"Ticket\" don't seem to add any value to the model building, hence will drop these columns as well"
   ]
  },
  {
   "cell_type": "code",
   "execution_count": 21,
   "id": "n1ARGUp9tUaI",
   "metadata": {
    "id": "n1ARGUp9tUaI"
   },
   "outputs": [],
   "source": [
    "df.drop([\"Cabin\", \"PassengerId\", \"Name\", \"Ticket\"], axis=1, inplace=True)"
   ]
  },
  {
   "cell_type": "markdown",
   "id": "27bzFQzgOzeU",
   "metadata": {
    "id": "27bzFQzgOzeU"
   },
   "source": [
    "# Encode the categorical values \"Sex\" and \"Embarked\"\n",
    "\n",
    "#### using get_dummies, then drop the columns"
   ]
  },
  {
   "cell_type": "code",
   "execution_count": 22,
   "id": "Q5SlqVLRtUdN",
   "metadata": {
    "id": "Q5SlqVLRtUdN"
   },
   "outputs": [],
   "source": [
    "sex = pd.get_dummies(df[\"Sex\"] ,drop_first=True)\n",
    "embark = pd.get_dummies(df[\"Embarked\"] ,drop_first=True)"
   ]
  },
  {
   "cell_type": "code",
   "execution_count": 23,
   "id": "l-R4t9lRIKEX",
   "metadata": {
    "id": "l-R4t9lRIKEX"
   },
   "outputs": [],
   "source": [
    "df.drop([\"Sex\", \"Embarked\"], axis=1, inplace=True)"
   ]
  },
  {
   "cell_type": "code",
   "execution_count": 24,
   "id": "TeNtoPPvIKHO",
   "metadata": {
    "colab": {
     "base_uri": "https://localhost:8080/",
     "height": 204
    },
    "id": "TeNtoPPvIKHO",
    "outputId": "3925e494-825d-4d8b-e078-68003f2fc713"
   },
   "outputs": [
    {
     "data": {
      "text/html": [
       "<div>\n",
       "<style scoped>\n",
       "    .dataframe tbody tr th:only-of-type {\n",
       "        vertical-align: middle;\n",
       "    }\n",
       "\n",
       "    .dataframe tbody tr th {\n",
       "        vertical-align: top;\n",
       "    }\n",
       "\n",
       "    .dataframe thead th {\n",
       "        text-align: right;\n",
       "    }\n",
       "</style>\n",
       "<table border=\"1\" class=\"dataframe\">\n",
       "  <thead>\n",
       "    <tr style=\"text-align: right;\">\n",
       "      <th></th>\n",
       "      <th>Survived</th>\n",
       "      <th>Pclass</th>\n",
       "      <th>Age</th>\n",
       "      <th>SibSp</th>\n",
       "      <th>Parch</th>\n",
       "      <th>Fare</th>\n",
       "      <th>male</th>\n",
       "      <th>Q</th>\n",
       "      <th>S</th>\n",
       "    </tr>\n",
       "  </thead>\n",
       "  <tbody>\n",
       "    <tr>\n",
       "      <th>0</th>\n",
       "      <td>0</td>\n",
       "      <td>3</td>\n",
       "      <td>22.0</td>\n",
       "      <td>1</td>\n",
       "      <td>0</td>\n",
       "      <td>7.2500</td>\n",
       "      <td>1</td>\n",
       "      <td>0</td>\n",
       "      <td>1</td>\n",
       "    </tr>\n",
       "    <tr>\n",
       "      <th>1</th>\n",
       "      <td>1</td>\n",
       "      <td>1</td>\n",
       "      <td>38.0</td>\n",
       "      <td>1</td>\n",
       "      <td>0</td>\n",
       "      <td>71.2833</td>\n",
       "      <td>0</td>\n",
       "      <td>0</td>\n",
       "      <td>0</td>\n",
       "    </tr>\n",
       "    <tr>\n",
       "      <th>2</th>\n",
       "      <td>1</td>\n",
       "      <td>3</td>\n",
       "      <td>26.0</td>\n",
       "      <td>0</td>\n",
       "      <td>0</td>\n",
       "      <td>7.9250</td>\n",
       "      <td>0</td>\n",
       "      <td>0</td>\n",
       "      <td>1</td>\n",
       "    </tr>\n",
       "    <tr>\n",
       "      <th>3</th>\n",
       "      <td>1</td>\n",
       "      <td>1</td>\n",
       "      <td>35.0</td>\n",
       "      <td>1</td>\n",
       "      <td>0</td>\n",
       "      <td>53.1000</td>\n",
       "      <td>0</td>\n",
       "      <td>0</td>\n",
       "      <td>1</td>\n",
       "    </tr>\n",
       "    <tr>\n",
       "      <th>4</th>\n",
       "      <td>0</td>\n",
       "      <td>3</td>\n",
       "      <td>35.0</td>\n",
       "      <td>0</td>\n",
       "      <td>0</td>\n",
       "      <td>8.0500</td>\n",
       "      <td>1</td>\n",
       "      <td>0</td>\n",
       "      <td>1</td>\n",
       "    </tr>\n",
       "  </tbody>\n",
       "</table>\n",
       "</div>"
      ],
      "text/plain": [
       "   Survived  Pclass   Age  SibSp  Parch     Fare  male  Q  S\n",
       "0         0       3  22.0      1      0   7.2500     1  0  1\n",
       "1         1       1  38.0      1      0  71.2833     0  0  0\n",
       "2         1       3  26.0      0      0   7.9250     0  0  1\n",
       "3         1       1  35.0      1      0  53.1000     0  0  1\n",
       "4         0       3  35.0      0      0   8.0500     1  0  1"
      ]
     },
     "execution_count": 24,
     "metadata": {},
     "output_type": "execute_result"
    }
   ],
   "source": [
    "df = pd.concat([df, sex, embark], axis=1)\n",
    "df.head()"
   ]
  },
  {
   "cell_type": "markdown",
   "id": "b9ba406b",
   "metadata": {
    "id": "b9ba406b"
   },
   "source": [
    "# Distribution of all the columns in the dataset\n",
    "\n",
    "### we can observe that both \"Age\" and \"Fare\" are continous colums and appear to be a little skewed.\n",
    "\n",
    "#### Lets remove the outliers to see if we can get better output"
   ]
  },
  {
   "cell_type": "code",
   "execution_count": 25,
   "id": "8V4h_8_bIKJp",
   "metadata": {
    "colab": {
     "base_uri": "https://localhost:8080/",
     "height": 1000
    },
    "id": "8V4h_8_bIKJp",
    "outputId": "665c707f-c885-4e07-c5e0-f61507f8a1c1"
   },
   "outputs": [
    {
     "data": {
      "image/png": "[encoded data removed]",
      "text/plain": [
       "<Figure size 1440x1800 with 9 Axes>"
      ]
     },
     "metadata": {},
     "output_type": "display_data"
    }
   ],
   "source": [
    "plt.figure(figsize=(20,25), facecolor=\"white\")\n",
    "plotnumber = 1\n",
    "\n",
    "for column in df:\n",
    "    if plotnumber <=9:\n",
    "        ax = plt.subplot(3,3, plotnumber)\n",
    "        sns.distplot(df[column])\n",
    "        plt.xlabel(column, fontsize=20)\n",
    "    plotnumber+=1\n",
    "plt.tight_layout()\n",
    "    "
   ]
  },
  {
   "cell_type": "markdown",
   "id": "TMEW7NFBQ_zn",
   "metadata": {
    "id": "TMEW7NFBQ_zn"
   },
   "source": [
    "# Applying Z-score to identify and remove outliers\n",
    "## It appears the dataset has removed / reduced outliers to some extent\n",
    "### The stats show reduction of total values in the dataset to minimal extent only"
   ]
  },
  {
   "cell_type": "code",
   "execution_count": 26,
   "id": "IW-lD5feIKPl",
   "metadata": {
    "colab": {
     "base_uri": "https://localhost:8080/",
     "height": 297
    },
    "id": "IW-lD5feIKPl",
    "outputId": "eda1d6de-01e0-44a5-832c-84e349a06d90"
   },
   "outputs": [
    {
     "data": {
      "text/html": [
       "<div>\n",
       "<style scoped>\n",
       "    .dataframe tbody tr th:only-of-type {\n",
       "        vertical-align: middle;\n",
       "    }\n",
       "\n",
       "    .dataframe tbody tr th {\n",
       "        vertical-align: top;\n",
       "    }\n",
       "\n",
       "    .dataframe thead th {\n",
       "        text-align: right;\n",
       "    }\n",
       "</style>\n",
       "<table border=\"1\" class=\"dataframe\">\n",
       "  <thead>\n",
       "    <tr style=\"text-align: right;\">\n",
       "      <th></th>\n",
       "      <th>Survived</th>\n",
       "      <th>Pclass</th>\n",
       "      <th>Age</th>\n",
       "      <th>SibSp</th>\n",
       "      <th>Parch</th>\n",
       "      <th>Fare</th>\n",
       "      <th>male</th>\n",
       "      <th>Q</th>\n",
       "      <th>S</th>\n",
       "    </tr>\n",
       "  </thead>\n",
       "  <tbody>\n",
       "    <tr>\n",
       "      <th>count</th>\n",
       "      <td>864.000000</td>\n",
       "      <td>864.000000</td>\n",
       "      <td>864.000000</td>\n",
       "      <td>864.000000</td>\n",
       "      <td>864.000000</td>\n",
       "      <td>864.000000</td>\n",
       "      <td>864.000000</td>\n",
       "      <td>864.000000</td>\n",
       "      <td>864.000000</td>\n",
       "    </tr>\n",
       "    <tr>\n",
       "      <th>mean</th>\n",
       "      <td>0.378472</td>\n",
       "      <td>2.343750</td>\n",
       "      <td>28.653553</td>\n",
       "      <td>0.520833</td>\n",
       "      <td>0.368056</td>\n",
       "      <td>26.500689</td>\n",
       "      <td>0.650463</td>\n",
       "      <td>0.087963</td>\n",
       "      <td>0.731481</td>\n",
       "    </tr>\n",
       "    <tr>\n",
       "      <th>std</th>\n",
       "      <td>0.485287</td>\n",
       "      <td>0.819028</td>\n",
       "      <td>12.724492</td>\n",
       "      <td>1.104937</td>\n",
       "      <td>0.794651</td>\n",
       "      <td>29.400192</td>\n",
       "      <td>0.477100</td>\n",
       "      <td>0.283405</td>\n",
       "      <td>0.443446</td>\n",
       "    </tr>\n",
       "    <tr>\n",
       "      <th>min</th>\n",
       "      <td>0.000000</td>\n",
       "      <td>1.000000</td>\n",
       "      <td>0.420000</td>\n",
       "      <td>0.000000</td>\n",
       "      <td>0.000000</td>\n",
       "      <td>0.000000</td>\n",
       "      <td>0.000000</td>\n",
       "      <td>0.000000</td>\n",
       "      <td>0.000000</td>\n",
       "    </tr>\n",
       "    <tr>\n",
       "      <th>25%</th>\n",
       "      <td>0.000000</td>\n",
       "      <td>2.000000</td>\n",
       "      <td>22.000000</td>\n",
       "      <td>0.000000</td>\n",
       "      <td>0.000000</td>\n",
       "      <td>7.895800</td>\n",
       "      <td>0.000000</td>\n",
       "      <td>0.000000</td>\n",
       "      <td>0.000000</td>\n",
       "    </tr>\n",
       "    <tr>\n",
       "      <th>50%</th>\n",
       "      <td>0.000000</td>\n",
       "      <td>3.000000</td>\n",
       "      <td>26.000000</td>\n",
       "      <td>0.000000</td>\n",
       "      <td>0.000000</td>\n",
       "      <td>13.860400</td>\n",
       "      <td>1.000000</td>\n",
       "      <td>0.000000</td>\n",
       "      <td>1.000000</td>\n",
       "    </tr>\n",
       "    <tr>\n",
       "      <th>75%</th>\n",
       "      <td>1.000000</td>\n",
       "      <td>3.000000</td>\n",
       "      <td>36.000000</td>\n",
       "      <td>1.000000</td>\n",
       "      <td>0.000000</td>\n",
       "      <td>29.775000</td>\n",
       "      <td>1.000000</td>\n",
       "      <td>0.000000</td>\n",
       "      <td>1.000000</td>\n",
       "    </tr>\n",
       "    <tr>\n",
       "      <th>max</th>\n",
       "      <td>1.000000</td>\n",
       "      <td>3.000000</td>\n",
       "      <td>66.000000</td>\n",
       "      <td>8.000000</td>\n",
       "      <td>6.000000</td>\n",
       "      <td>164.866700</td>\n",
       "      <td>1.000000</td>\n",
       "      <td>1.000000</td>\n",
       "      <td>1.000000</td>\n",
       "    </tr>\n",
       "  </tbody>\n",
       "</table>\n",
       "</div>"
      ],
      "text/plain": [
       "         Survived      Pclass         Age       SibSp       Parch        Fare  \\\n",
       "count  864.000000  864.000000  864.000000  864.000000  864.000000  864.000000   \n",
       "mean     0.378472    2.343750   28.653553    0.520833    0.368056   26.500689   \n",
       "std      0.485287    0.819028   12.724492    1.104937    0.794651   29.400192   \n",
       "min      0.000000    1.000000    0.420000    0.000000    0.000000    0.000000   \n",
       "25%      0.000000    2.000000   22.000000    0.000000    0.000000    7.895800   \n",
       "50%      0.000000    3.000000   26.000000    0.000000    0.000000   13.860400   \n",
       "75%      1.000000    3.000000   36.000000    1.000000    0.000000   29.775000   \n",
       "max      1.000000    3.000000   66.000000    8.000000    6.000000  164.866700   \n",
       "\n",
       "             male           Q           S  \n",
       "count  864.000000  864.000000  864.000000  \n",
       "mean     0.650463    0.087963    0.731481  \n",
       "std      0.477100    0.283405    0.443446  \n",
       "min      0.000000    0.000000    0.000000  \n",
       "25%      0.000000    0.000000    0.000000  \n",
       "50%      1.000000    0.000000    1.000000  \n",
       "75%      1.000000    0.000000    1.000000  \n",
       "max      1.000000    1.000000    1.000000  "
      ]
     },
     "execution_count": 26,
     "metadata": {},
     "output_type": "execute_result"
    }
   ],
   "source": [
    "from scipy.stats import zscore\n",
    "\n",
    "z_score = zscore(df[['Age', 'Fare']])\n",
    "abs_zscore = np.abs(z_score)\n",
    "\n",
    "filtering_entry = (abs_zscore < 3).all(axis=1)\n",
    "\n",
    "df = df[filtering_entry]\n",
    "\n",
    "\n",
    "\n",
    "# the data now seems much better than before.\n",
    "\n",
    "df.describe()"
   ]
  },
  {
   "cell_type": "markdown",
   "id": "DuSl6FT2RPEM",
   "metadata": {
    "id": "DuSl6FT2RPEM"
   },
   "source": [
    "# Percentage of Data Loss\n",
    "#### It is told that if the data loss is more than 7 to 8%, we may not get accurate results. In this case its approximately 3.03% and not much of data is lost"
   ]
  },
  {
   "cell_type": "code",
   "execution_count": 27,
   "id": "6APqONHeRPT0",
   "metadata": {
    "colab": {
     "base_uri": "https://localhost:8080/"
    },
    "id": "6APqONHeRPT0",
    "outputId": "6cfd85de-142c-44e9-968e-5bb4df6390a8"
   },
   "outputs": [
    {
     "name": "stdout",
     "output_type": "stream",
     "text": [
      "3.0303030303030303\n"
     ]
    }
   ],
   "source": [
    "# Percentage data loss:\n",
    "\n",
    "loss_percent = (891-864)/891*100\n",
    "print(loss_percent)"
   ]
  },
  {
   "cell_type": "markdown",
   "id": "S8K-LX9pSIeO",
   "metadata": {
    "id": "S8K-LX9pSIeO"
   },
   "source": [
    "#Distribution of all the columns in the dataset (post z-score)\n",
    "#### Ignoring the categorical values, the dataset now appears to be normally distributed than before."
   ]
  },
  {
   "cell_type": "code",
   "execution_count": 28,
   "id": "UHOSjfFQRVNH",
   "metadata": {
    "colab": {
     "base_uri": "https://localhost:8080/",
     "height": 1000
    },
    "id": "UHOSjfFQRVNH",
    "outputId": "21c4e386-d1c0-4efb-b9c9-63be81a6c385"
   },
   "outputs": [
    {
     "data": {
      "image/png": "[encoded data removed]",
      "text/plain": [
       "<Figure size 1440x1800 with 9 Axes>"
      ]
     },
     "metadata": {},
     "output_type": "display_data"
    }
   ],
   "source": [
    "plt.figure(figsize=(20,25), facecolor=\"white\")\n",
    "plotnumber = 1\n",
    "\n",
    "for column in df:\n",
    "    if plotnumber <=9:\n",
    "        ax = plt.subplot(3,3, plotnumber)\n",
    "        sns.distplot(df[column])\n",
    "        plt.xlabel(column, fontsize=20)\n",
    "    plotnumber+=1\n",
    "plt.tight_layout()"
   ]
  },
  {
   "cell_type": "markdown",
   "id": "39118c22",
   "metadata": {
    "id": "39118c22"
   },
   "source": [
    "# Splitting up of dataset with x (features) and y (target column)"
   ]
  },
  {
   "cell_type": "code",
   "execution_count": 29,
   "id": "bcea4113",
   "metadata": {
    "id": "bcea4113"
   },
   "outputs": [],
   "source": [
    "# splitting the columns\n",
    "\n",
    "x = df.drop(columns = [\"Survived\"])\n",
    "y = df[\"Survived\"]"
   ]
  },
  {
   "cell_type": "markdown",
   "id": "ebb45f43",
   "metadata": {
    "id": "ebb45f43"
   },
   "source": [
    "# Lets us now Scale the data for further processing.\n",
    "\n",
    "## I am using StandardScaler in this scenario"
   ]
  },
  {
   "cell_type": "code",
   "execution_count": 30,
   "id": "7fbff9d6",
   "metadata": {
    "colab": {
     "base_uri": "https://localhost:8080/"
    },
    "id": "7fbff9d6",
    "outputId": "8a749fb5-ad99-4a46-e2cd-41db2fe42abe"
   },
   "outputs": [
    {
     "data": {
      "text/plain": [
       "array([[ 0.8017188 , -0.52319628,  0.43391078, ...,  0.7330529 ,\n",
       "        -0.31055869,  0.60587838],\n",
       "       [-1.64161469,  0.73494958,  0.43391078, ..., -1.36415804,\n",
       "        -0.31055869, -1.65049627],\n",
       "       [ 0.8017188 , -0.20865981, -0.47164215, ..., -1.36415804,\n",
       "        -0.31055869,  0.60587838],\n",
       "       ...,\n",
       "       [ 0.8017188 , -0.36592805,  0.43391078, ..., -1.36415804,\n",
       "        -0.31055869,  0.60587838],\n",
       "       [-1.64161469, -0.20865981, -0.47164215, ...,  0.7330529 ,\n",
       "        -0.31055869, -1.65049627],\n",
       "       [ 0.8017188 ,  0.26314488, -0.47164215, ...,  0.7330529 ,\n",
       "         3.22000327, -1.65049627]])"
      ]
     },
     "execution_count": 30,
     "metadata": {},
     "output_type": "execute_result"
    }
   ],
   "source": [
    "scaler = StandardScaler()\n",
    "x_scaled = scaler.fit_transform(x)\n",
    "x_scaled"
   ]
  },
  {
   "cell_type": "markdown",
   "id": "ed7778c4",
   "metadata": {
    "id": "ed7778c4"
   },
   "source": [
    "# Finding variance inflation factor in each scaled column\n",
    "\n",
    "#### This gives us relationship between feature vs feature and we can drop if necessary to avoid multicolinearity\n",
    "\n",
    "#### From the below observation, it appears there is no issue of multicolinearity for this dataset"
   ]
  },
  {
   "cell_type": "code",
   "execution_count": 31,
   "id": "51c08066",
   "metadata": {
    "colab": {
     "base_uri": "https://localhost:8080/",
     "height": 297
    },
    "id": "51c08066",
    "outputId": "19675262-f3a5-4820-f788-e7485b26b846",
    "scrolled": true
   },
   "outputs": [
    {
     "data": {
      "text/html": [
       "<div>\n",
       "<style scoped>\n",
       "    .dataframe tbody tr th:only-of-type {\n",
       "        vertical-align: middle;\n",
       "    }\n",
       "\n",
       "    .dataframe tbody tr th {\n",
       "        vertical-align: top;\n",
       "    }\n",
       "\n",
       "    .dataframe thead th {\n",
       "        text-align: right;\n",
       "    }\n",
       "</style>\n",
       "<table border=\"1\" class=\"dataframe\">\n",
       "  <thead>\n",
       "    <tr style=\"text-align: right;\">\n",
       "      <th></th>\n",
       "      <th>vif</th>\n",
       "      <th>Features</th>\n",
       "    </tr>\n",
       "  </thead>\n",
       "  <tbody>\n",
       "    <tr>\n",
       "      <th>0</th>\n",
       "      <td>2.363159</td>\n",
       "      <td>Pclass</td>\n",
       "    </tr>\n",
       "    <tr>\n",
       "      <th>1</th>\n",
       "      <td>1.303969</td>\n",
       "      <td>Age</td>\n",
       "    </tr>\n",
       "    <tr>\n",
       "      <th>2</th>\n",
       "      <td>1.381374</td>\n",
       "      <td>SibSp</td>\n",
       "    </tr>\n",
       "    <tr>\n",
       "      <th>3</th>\n",
       "      <td>1.340995</td>\n",
       "      <td>Parch</td>\n",
       "    </tr>\n",
       "    <tr>\n",
       "      <th>4</th>\n",
       "      <td>2.290348</td>\n",
       "      <td>Fare</td>\n",
       "    </tr>\n",
       "    <tr>\n",
       "      <th>5</th>\n",
       "      <td>1.137499</td>\n",
       "      <td>male</td>\n",
       "    </tr>\n",
       "    <tr>\n",
       "      <th>6</th>\n",
       "      <td>1.497149</td>\n",
       "      <td>Q</td>\n",
       "    </tr>\n",
       "    <tr>\n",
       "      <th>7</th>\n",
       "      <td>1.464207</td>\n",
       "      <td>S</td>\n",
       "    </tr>\n",
       "  </tbody>\n",
       "</table>\n",
       "</div>"
      ],
      "text/plain": [
       "        vif Features\n",
       "0  2.363159   Pclass\n",
       "1  1.303969      Age\n",
       "2  1.381374    SibSp\n",
       "3  1.340995    Parch\n",
       "4  2.290348     Fare\n",
       "5  1.137499     male\n",
       "6  1.497149        Q\n",
       "7  1.464207        S"
      ]
     },
     "execution_count": 31,
     "metadata": {},
     "output_type": "execute_result"
    }
   ],
   "source": [
    "from statsmodels.stats.outliers_influence import variance_inflation_factor\n",
    "\n",
    "vif = pd.DataFrame()\n",
    "vif[\"vif\"] = [variance_inflation_factor( x_scaled, i) for i in range(x_scaled.shape[1])]\n",
    "vif[\"Features\"] = x.columns\n",
    "vif"
   ]
  },
  {
   "cell_type": "markdown",
   "id": "33a8b7df",
   "metadata": {
    "id": "33a8b7df"
   },
   "source": [
    "# Check if the dataset is over sampling or under sampling"
   ]
  },
  {
   "cell_type": "code",
   "execution_count": 32,
   "id": "7be6f2b8",
   "metadata": {
    "colab": {
     "base_uri": "https://localhost:8080/"
    },
    "id": "7be6f2b8",
    "outputId": "1abdeedf-e590-4637-92a5-17dea83f022f"
   },
   "outputs": [
    {
     "data": {
      "text/plain": [
       "0    537\n",
       "1    327\n",
       "Name: Survived, dtype: int64"
      ]
     },
     "execution_count": 32,
     "metadata": {},
     "output_type": "execute_result"
    }
   ],
   "source": [
    "df[\"Survived\"].value_counts()"
   ]
  },
  {
   "cell_type": "markdown",
   "id": "f0b68d3a",
   "metadata": {
    "id": "f0b68d3a"
   },
   "source": [
    "## I will proceed with SMOTE technique for Over Sampling of dataset\n",
    "\n",
    "### Although very few amount of values are imbalanced, I would still consider it to be imbalanced dataset because, the accuracy of the model after balancing the dataset was much better than the unbalanced dataset. "
   ]
  },
  {
   "cell_type": "code",
   "execution_count": 33,
   "id": "967cbaf9",
   "metadata": {
    "id": "967cbaf9"
   },
   "outputs": [],
   "source": [
    "#Handling class imbalance problem ny oversampling the moinority class\n",
    "\n",
    "from imblearn.over_sampling import SMOTE\n",
    "SM = SMOTE()\n",
    "x_over, y_over = SM.fit_resample(x,y)"
   ]
  },
  {
   "cell_type": "markdown",
   "id": "1f5a0d69",
   "metadata": {
    "id": "1f5a0d69"
   },
   "source": [
    "#### Balanced dataset after SMOTE"
   ]
  },
  {
   "cell_type": "code",
   "execution_count": 34,
   "id": "130c5a1f",
   "metadata": {
    "id": "130c5a1f",
    "outputId": "41b914ac-786e-427f-bc4a-97fe90abf8c6"
   },
   "outputs": [
    {
     "data": {
      "text/plain": [
       "0    537\n",
       "1    537\n",
       "Name: Survived, dtype: int64"
      ]
     },
     "execution_count": 34,
     "metadata": {},
     "output_type": "execute_result"
    }
   ],
   "source": [
    "y_over.value_counts()"
   ]
  },
  {
   "cell_type": "markdown",
   "id": "5875c897",
   "metadata": {
    "id": "5875c897"
   },
   "source": [
    "# split the dataset into train and test data set\n",
    "\n",
    "#### test_size value is same as above (30%) and random_state refers to teh output of \"maxRS\" variable as calculated in the previous step"
   ]
  },
  {
   "cell_type": "code",
   "execution_count": 36,
   "id": "b2835a48",
   "metadata": {
    "id": "b2835a48"
   },
   "outputs": [],
   "source": [
    "x_train, x_test, y_train, y_test = train_test_split(x_over, y_over, test_size=0.30, random_state = 200)\n",
    "\n",
    "# x_train, x_test, y_train, y_test = train_test_split(x_scaled, y, test_size=0.30, random_state = 200)"
   ]
  },
  {
   "cell_type": "markdown",
   "id": "9e87c143",
   "metadata": {
    "id": "9e87c143"
   },
   "source": [
    "# Create multi output classification models\n",
    "#### I have considered 6 ML models in thsi scenario"
   ]
  },
  {
   "cell_type": "markdown",
   "id": "969ad96e",
   "metadata": {
    "id": "969ad96e"
   },
   "source": [
    "### 1) LogisticRegression"
   ]
  },
  {
   "cell_type": "code",
   "execution_count": 37,
   "id": "c6bfe877",
   "metadata": {
    "colab": {
     "base_uri": "https://localhost:8080/"
    },
    "id": "c6bfe877",
    "outputId": "78e52458-d6a8-4eed-b65c-8dbf2410e078"
   },
   "outputs": [
    {
     "name": "stdout",
     "output_type": "stream",
     "text": [
      "0.826625386996904\n",
      "[[126  26]\n",
      " [ 30 141]]\n",
      "              precision    recall  f1-score   support\n",
      "\n",
      "           0       0.81      0.83      0.82       152\n",
      "           1       0.84      0.82      0.83       171\n",
      "\n",
      "    accuracy                           0.83       323\n",
      "   macro avg       0.83      0.83      0.83       323\n",
      "weighted avg       0.83      0.83      0.83       323\n",
      "\n"
     ]
    }
   ],
   "source": [
    "from sklearn.linear_model import LogisticRegression\n",
    "log_reg = LogisticRegression()\n",
    "log_reg.fit(x_train,y_train)\n",
    "\n",
    "y_pred = log_reg.predict(x_test)\n",
    "\n",
    "print(accuracy_score(y_test, y_pred))\n",
    "print(confusion_matrix(y_test, y_pred))\n",
    "print(classification_report(y_test, y_pred))"
   ]
  },
  {
   "cell_type": "markdown",
   "id": "dfa02eea",
   "metadata": {
    "id": "dfa02eea"
   },
   "source": [
    "### 2) DecisionTreeClassifier "
   ]
  },
  {
   "cell_type": "code",
   "execution_count": 38,
   "id": "80c4f85e",
   "metadata": {
    "colab": {
     "base_uri": "https://localhost:8080/"
    },
    "id": "80c4f85e",
    "outputId": "79e7d632-c768-490c-b305-ea1283f5301f"
   },
   "outputs": [
    {
     "name": "stdout",
     "output_type": "stream",
     "text": [
      "0.8235294117647058\n",
      "[[125  27]\n",
      " [ 30 141]]\n",
      "              precision    recall  f1-score   support\n",
      "\n",
      "           0       0.81      0.82      0.81       152\n",
      "           1       0.84      0.82      0.83       171\n",
      "\n",
      "    accuracy                           0.82       323\n",
      "   macro avg       0.82      0.82      0.82       323\n",
      "weighted avg       0.82      0.82      0.82       323\n",
      "\n"
     ]
    }
   ],
   "source": [
    "from sklearn.tree import DecisionTreeClassifier\n",
    "\n",
    "dt = DecisionTreeClassifier()\n",
    "dt.fit(x_train,y_train)\n",
    "\n",
    "y_pred = dt.predict(x_test)\n",
    "\n",
    "print(accuracy_score(y_test, y_pred))\n",
    "print(confusion_matrix(y_test, y_pred))\n",
    "print(classification_report(y_test, y_pred))"
   ]
  },
  {
   "cell_type": "markdown",
   "id": "4ac2032f",
   "metadata": {
    "id": "4ac2032f"
   },
   "source": [
    "### 3) RandomForestClassifier"
   ]
  },
  {
   "cell_type": "code",
   "execution_count": 39,
   "id": "d7dcfd50",
   "metadata": {
    "colab": {
     "base_uri": "https://localhost:8080/"
    },
    "id": "d7dcfd50",
    "outputId": "359e9001-dac8-43ad-9fa0-aacacc08decd"
   },
   "outputs": [
    {
     "name": "stdout",
     "output_type": "stream",
     "text": [
      "0.848297213622291\n",
      "[[127  25]\n",
      " [ 24 147]]\n",
      "              precision    recall  f1-score   support\n",
      "\n",
      "           0       0.84      0.84      0.84       152\n",
      "           1       0.85      0.86      0.86       171\n",
      "\n",
      "    accuracy                           0.85       323\n",
      "   macro avg       0.85      0.85      0.85       323\n",
      "weighted avg       0.85      0.85      0.85       323\n",
      "\n"
     ]
    }
   ],
   "source": [
    "from sklearn.ensemble import RandomForestClassifier\n",
    "\n",
    "rf = RandomForestClassifier()\n",
    "rf.fit(x_train,y_train)\n",
    "\n",
    "y_pred = rf.predict(x_test)\n",
    "\n",
    "print(accuracy_score(y_test, y_pred))\n",
    "print(confusion_matrix(y_test, y_pred))\n",
    "print(classification_report(y_test, y_pred))"
   ]
  },
  {
   "cell_type": "markdown",
   "id": "91c52265",
   "metadata": {
    "id": "91c52265"
   },
   "source": [
    "### 4) GradientBoostingClassifier"
   ]
  },
  {
   "cell_type": "code",
   "execution_count": 52,
   "id": "e382a507",
   "metadata": {
    "colab": {
     "base_uri": "https://localhost:8080/"
    },
    "id": "e382a507",
    "outputId": "0dcd03b2-2826-4bed-e1ed-1d28ac74a688"
   },
   "outputs": [
    {
     "name": "stdout",
     "output_type": "stream",
     "text": [
      "0.8421052631578947\n",
      "[[131  21]\n",
      " [ 30 141]]\n",
      "              precision    recall  f1-score   support\n",
      "\n",
      "           0       0.81      0.86      0.84       152\n",
      "           1       0.87      0.82      0.85       171\n",
      "\n",
      "    accuracy                           0.84       323\n",
      "   macro avg       0.84      0.84      0.84       323\n",
      "weighted avg       0.84      0.84      0.84       323\n",
      "\n"
     ]
    }
   ],
   "source": [
    "from sklearn.ensemble import GradientBoostingClassifier\n",
    "\n",
    "gb_class = GradientBoostingClassifier()\n",
    "gb_class.fit(x_train,y_train)\n",
    "\n",
    "y_pred = gb_class.predict(x_test)\n",
    "\n",
    "print(accuracy_score(y_test, y_pred))\n",
    "print(confusion_matrix(y_test, y_pred))\n",
    "print(classification_report(y_test, y_pred))\n"
   ]
  },
  {
   "cell_type": "markdown",
   "id": "fFT1GujkWiEh",
   "metadata": {
    "id": "fFT1GujkWiEh"
   },
   "source": [
    "### 5) AdaBoostClassifier"
   ]
  },
  {
   "cell_type": "code",
   "execution_count": 41,
   "id": "XwvhCvbnWiT1",
   "metadata": {
    "colab": {
     "base_uri": "https://localhost:8080/"
    },
    "id": "XwvhCvbnWiT1",
    "outputId": "cc8b2d91-8f5c-428e-85cf-14dc17ceb7ee"
   },
   "outputs": [
    {
     "name": "stdout",
     "output_type": "stream",
     "text": [
      "0.826625386996904\n",
      "[[126  26]\n",
      " [ 30 141]]\n",
      "              precision    recall  f1-score   support\n",
      "\n",
      "           0       0.81      0.83      0.82       152\n",
      "           1       0.84      0.82      0.83       171\n",
      "\n",
      "    accuracy                           0.83       323\n",
      "   macro avg       0.83      0.83      0.83       323\n",
      "weighted avg       0.83      0.83      0.83       323\n",
      "\n"
     ]
    }
   ],
   "source": [
    "from sklearn.ensemble import AdaBoostClassifier\n",
    "\n",
    "ad_class = AdaBoostClassifier()\n",
    "ad_class.fit(x_train,y_train)\n",
    "\n",
    "y_pred = ad_class.predict(x_test)\n",
    "\n",
    "print(accuracy_score(y_test, y_pred))\n",
    "print(confusion_matrix(y_test, y_pred))\n",
    "print(classification_report(y_test, y_pred))"
   ]
  },
  {
   "cell_type": "markdown",
   "id": "JNgU1Dl9XA9-",
   "metadata": {
    "id": "JNgU1Dl9XA9-"
   },
   "source": [
    "### 6) ExtraTreesClassifier"
   ]
  },
  {
   "cell_type": "code",
   "execution_count": 42,
   "id": "9sJDi3fkXBG8",
   "metadata": {
    "colab": {
     "base_uri": "https://localhost:8080/"
    },
    "id": "9sJDi3fkXBG8",
    "outputId": "57a0dc27-27a6-43ea-f4e8-0251c58317d2"
   },
   "outputs": [
    {
     "name": "stdout",
     "output_type": "stream",
     "text": [
      "0.8606811145510835\n",
      "[[131  21]\n",
      " [ 24 147]]\n",
      "              precision    recall  f1-score   support\n",
      "\n",
      "           0       0.85      0.86      0.85       152\n",
      "           1       0.88      0.86      0.87       171\n",
      "\n",
      "    accuracy                           0.86       323\n",
      "   macro avg       0.86      0.86      0.86       323\n",
      "weighted avg       0.86      0.86      0.86       323\n",
      "\n"
     ]
    }
   ],
   "source": [
    "from sklearn.ensemble import ExtraTreesClassifier\n",
    "\n",
    "ex_reg = ExtraTreesClassifier()\n",
    "ex_reg.fit(x_train,y_train)\n",
    "\n",
    "y_pred = ex_reg.predict(x_test)\n",
    "\n",
    "print(accuracy_score(y_test, y_pred))\n",
    "print(confusion_matrix(y_test, y_pred))\n",
    "print(classification_report(y_test, y_pred))"
   ]
  },
  {
   "cell_type": "markdown",
   "id": "c73a1626",
   "metadata": {
    "id": "c73a1626"
   },
   "source": [
    "# Cross validation to check if its overfitting"
   ]
  },
  {
   "cell_type": "code",
   "execution_count": 43,
   "id": "LxsPz7UaYSpt",
   "metadata": {
    "id": "LxsPz7UaYSpt"
   },
   "outputs": [],
   "source": [
    "from sklearn.model_selection import cross_val_score"
   ]
  },
  {
   "cell_type": "code",
   "execution_count": 44,
   "id": "fc71708c",
   "metadata": {
    "colab": {
     "base_uri": "https://localhost:8080/"
    },
    "id": "fc71708c",
    "outputId": "0eb533a4-c139-405d-dc17-5fff8c4318b8"
   },
   "outputs": [
    {
     "name": "stdout",
     "output_type": "stream",
     "text": [
      "Cross Validation score of LogisticRegression model is: 0.7939911278397634\n"
     ]
    }
   ],
   "source": [
    "scr = cross_val_score(log_reg, x, y, cv=5)\n",
    "print(\"Cross Validation score of LogisticRegression model is:\", scr.mean())"
   ]
  },
  {
   "cell_type": "code",
   "execution_count": 46,
   "id": "19dc47ed",
   "metadata": {
    "colab": {
     "base_uri": "https://localhost:8080/"
    },
    "id": "19dc47ed",
    "outputId": "578cf0cc-077b-4fa6-f3d1-3c45e11ee894"
   },
   "outputs": [
    {
     "name": "stdout",
     "output_type": "stream",
     "text": [
      "Cross Validation score of DecisionTree model is: 0.7720190885871757\n"
     ]
    }
   ],
   "source": [
    "scr = cross_val_score(dt, x, y, cv=5)\n",
    "print(\"Cross Validation score of DecisionTree model is:\", scr.mean())"
   ]
  },
  {
   "cell_type": "code",
   "execution_count": 47,
   "id": "beaaf3d2",
   "metadata": {
    "colab": {
     "base_uri": "https://localhost:8080/"
    },
    "id": "beaaf3d2",
    "outputId": "bba18d2c-d60d-406f-8183-5b72504e0b56"
   },
   "outputs": [
    {
     "name": "stdout",
     "output_type": "stream",
     "text": [
      "Cross Validation score of RandomForestClassifier model is: 0.8090536362414303\n"
     ]
    }
   ],
   "source": [
    "scr = cross_val_score(rf, x, y, cv=5)\n",
    "print(\"Cross Validation score of RandomForestClassifier model is:\", scr.mean())"
   ]
  },
  {
   "cell_type": "code",
   "execution_count": 53,
   "id": "027a512f",
   "metadata": {
    "colab": {
     "base_uri": "https://localhost:8080/"
    },
    "id": "027a512f",
    "outputId": "de2aff6a-0173-42b9-e895-982c77ea1ed2"
   },
   "outputs": [
    {
     "name": "stdout",
     "output_type": "stream",
     "text": [
      "Cross Validation score of SVC model is: 0.8229466326119101\n"
     ]
    }
   ],
   "source": [
    "scr = cross_val_score(gb_class, x, y, cv=5)\n",
    "print(\"Cross Validation score of SVC model is:\", scr.mean())"
   ]
  },
  {
   "cell_type": "code",
   "execution_count": 49,
   "id": "s-BxLF_wYYte",
   "metadata": {
    "colab": {
     "base_uri": "https://localhost:8080/"
    },
    "id": "s-BxLF_wYYte",
    "outputId": "83d5f894-b7c7-49b5-c7de-23f4ab2c7244"
   },
   "outputs": [
    {
     "name": "stdout",
     "output_type": "stream",
     "text": [
      "Cross Validation score of AdaBoostClassifier model is: 0.8090401935744052\n"
     ]
    }
   ],
   "source": [
    "scr = cross_val_score(ad_class, x, y, cv=5)\n",
    "print(\"Cross Validation score of AdaBoostClassifier model is:\", scr.mean())"
   ]
  },
  {
   "cell_type": "code",
   "execution_count": 50,
   "id": "7gA9GHzjYY2C",
   "metadata": {
    "colab": {
     "base_uri": "https://localhost:8080/"
    },
    "id": "7gA9GHzjYY2C",
    "outputId": "cb035669-6aa6-414c-ff24-3c8ed43e1a84"
   },
   "outputs": [
    {
     "name": "stdout",
     "output_type": "stream",
     "text": [
      "Cross Validation score of ExtraTreesClassifier model is: 0.7882175023524668\n"
     ]
    }
   ],
   "source": [
    "scr = cross_val_score(ex_reg, x, y, cv=5)\n",
    "print(\"Cross Validation score of ExtraTreesClassifier model is:\", scr.mean())"
   ]
  },
  {
   "cell_type": "markdown",
   "id": "dbdf52c1",
   "metadata": {
    "id": "dbdf52c1"
   },
   "source": [
    "# Selecting the best ML model for this dataset\n",
    "\n",
    "### Its clear that we should proceed with ExtraTreesClassifier as the difference is lower compared to other models for this dataset in this scenario"
   ]
  },
  {
   "cell_type": "markdown",
   "id": "a271b208",
   "metadata": {
    "id": "a271b208"
   },
   "source": [
    "| Models used | Model Accuracy | Cross Validation | Difference output |\n",
    "| --- | --- | --- |---|\n",
    "| LogisticRegression | 0.826625386996904 | 0.793991127839763 | 0.032634259157141 |\n",
    "| DecisionTreeClassifier | 0.823529411764705 | 0.772019088587175 | 0.0515103231775299 |\n",
    "| RandomForestClassifier | 0.848297213622291 | 0.80905363624143 | 0.039243577380861 |\n",
    "| GradientBoostingClassifier | 0.842105263157894 | 0.82294663261191 | 0.019158630545984 |\n",
    "| AdaBoostClassifier | 0.826625386996904 | 0.809040193574405 | 0.017585193422499 |\n",
    "| ExtraTreesClassifier | 0.860681114551083 | 0.788217502352466 | 0.072463612198617 |\n",
    "\n",
    "\n"
   ]
  },
  {
   "cell_type": "markdown",
   "id": "cdbb8b36",
   "metadata": {
    "id": "cdbb8b36"
   },
   "source": [
    "# Hyper Parameter Tuning\n",
    "\n",
    "### Let us try to tune the proposed model (ExtraTreesClassifier) to get better accuracy, if possible\n",
    "\n",
    "##### The \"paramaters\" have been selected from the skicit library and I have considered 6 paramaters"
   ]
  },
  {
   "cell_type": "code",
   "execution_count": 92,
   "id": "a98bc8f8",
   "metadata": {
    "id": "a98bc8f8"
   },
   "outputs": [],
   "source": [
    "parameters = {\"n_estimators\": [100,200],\n",
    "              \"criterion\": [\"gini\", \"entropy\"],\n",
    "              \"min_samples_split\":[2,4],\n",
    "              \"min_samples_leaf\": [1,2],\n",
    "              \"max_features\":[\"auto\",\"sqrt\",\"log2\"],\n",
    "              \"class_weight\":[\"balanced\",\"balanced_subsample\"]\n",
    "              }\n"
   ]
  },
  {
   "cell_type": "markdown",
   "id": "ad0110fa",
   "metadata": {
    "id": "ad0110fa"
   },
   "source": [
    "### GridSearchCV is used to tune the parameters by fitting the same to the training dataset"
   ]
  },
  {
   "cell_type": "code",
   "execution_count": 93,
   "id": "81a152bb",
   "metadata": {
    "id": "81a152bb"
   },
   "outputs": [],
   "source": [
    "from sklearn.model_selection import GridSearchCV\n",
    "GCV = GridSearchCV(ExtraTreesClassifier(), parameters, cv=5)"
   ]
  },
  {
   "cell_type": "code",
   "execution_count": 94,
   "id": "ccd120ac",
   "metadata": {
    "colab": {
     "base_uri": "https://localhost:8080/"
    },
    "id": "ccd120ac",
    "outputId": "76f354c5-cb64-4510-fe65-09e6d6dd7dff"
   },
   "outputs": [
    {
     "data": {
      "text/plain": [
       "GridSearchCV(cv=5, error_score=nan,\n",
       "             estimator=ExtraTreesClassifier(bootstrap=False, ccp_alpha=0.0,\n",
       "                                            class_weight=None, criterion='gini',\n",
       "                                            max_depth=None, max_features='auto',\n",
       "                                            max_leaf_nodes=None,\n",
       "                                            max_samples=None,\n",
       "                                            min_impurity_decrease=0.0,\n",
       "                                            min_impurity_split=None,\n",
       "                                            min_samples_leaf=1,\n",
       "                                            min_samples_split=2,\n",
       "                                            min_weight_fraction_leaf=0.0,\n",
       "                                            n_estimators=100, n_jobs=None,\n",
       "                                            o...ne,\n",
       "                                            verbose=0, warm_start=False),\n",
       "             iid='deprecated', n_jobs=None,\n",
       "             param_grid={'class_weight': ['balanced', 'balanced_subsample'],\n",
       "                         'criterion': ['gini', 'entropy'],\n",
       "                         'max_features': ['auto', 'sqrt', 'log2'],\n",
       "                         'min_samples_leaf': [1, 2],\n",
       "                         'min_samples_split': [2, 4],\n",
       "                         'n_estimators': [100, 200]},\n",
       "             pre_dispatch='2*n_jobs', refit=True, return_train_score=False,\n",
       "             scoring=None, verbose=0)"
      ]
     },
     "execution_count": 94,
     "metadata": {
      "tags": []
     },
     "output_type": "execute_result"
    }
   ],
   "source": [
    "GCV.fit(x_train, y_train)"
   ]
  },
  {
   "cell_type": "code",
   "execution_count": 95,
   "id": "40f6b0f5",
   "metadata": {
    "colab": {
     "base_uri": "https://localhost:8080/"
    },
    "id": "40f6b0f5",
    "outputId": "b3911b77-042f-45fd-b38d-5ba52500a892"
   },
   "outputs": [
    {
     "data": {
      "text/plain": [
       "{'class_weight': 'balanced',\n",
       " 'criterion': 'entropy',\n",
       " 'max_features': 'log2',\n",
       " 'min_samples_leaf': 2,\n",
       " 'min_samples_split': 4,\n",
       " 'n_estimators': 200}"
      ]
     },
     "execution_count": 95,
     "metadata": {
      "tags": []
     },
     "output_type": "execute_result"
    }
   ],
   "source": [
    "GCV.best_params_"
   ]
  },
  {
   "cell_type": "markdown",
   "id": "0d13e833",
   "metadata": {
    "id": "0d13e833"
   },
   "source": [
    "### Rebuild the model using the appropriate params we recieved from best_params_\n",
    "\n",
    "\n",
    "#### Its observed that the model accuracy was approximately 86.06 % earlier and post Hyper Parameter tuning its now approximately 86.37 % better "
   ]
  },
  {
   "cell_type": "code",
   "execution_count": 63,
   "id": "f6f5d495",
   "metadata": {
    "colab": {
     "base_uri": "https://localhost:8080/"
    },
    "id": "f6f5d495",
    "outputId": "87329ad4-7949-4129-a47b-2adcffec8edb"
   },
   "outputs": [
    {
     "name": "stdout",
     "output_type": "stream",
     "text": [
      "86.37770897832817\n"
     ]
    }
   ],
   "source": [
    "mod_ext_tree = ExtraTreesClassifier(class_weight=\"balanced\",criterion=\"entropy\",max_features=\"log2\", \n",
    "                                    min_samples_leaf= 2, min_samples_split= 4, n_estimators =200)\n",
    "\n",
    "mod_ext_tree.fit(x_train,y_train)\n",
    "pred = mod_ext_tree.predict(x_test)\n",
    "print(accuracy_score(y_test,pred)*100)"
   ]
  },
  {
   "cell_type": "markdown",
   "id": "f14321dd",
   "metadata": {
    "id": "f14321dd"
   },
   "source": [
    "# Saving the model (using joblib)"
   ]
  },
  {
   "cell_type": "code",
   "execution_count": 64,
   "id": "511a7457",
   "metadata": {
    "id": "511a7457",
    "outputId": "e2f92318-6222-4f3e-d081-69ee0810a18c"
   },
   "outputs": [
    {
     "data": {
      "text/plain": [
       "['Titanic_Prediction.pkl']"
      ]
     },
     "execution_count": 64,
     "metadata": {},
     "output_type": "execute_result"
    }
   ],
   "source": [
    "# Svaing the model\n",
    "\n",
    "import joblib\n",
    "joblib.dump(mod_ext_tree,\"Titanic_Prediction.pkl\")"
   ]
  },
  {
   "cell_type": "markdown",
   "id": "60efa41c",
   "metadata": {
    "id": "60efa41c"
   },
   "source": [
    "# Loading the saved model"
   ]
  },
  {
   "cell_type": "code",
   "execution_count": 65,
   "id": "a9fdd614",
   "metadata": {
    "id": "a9fdd614"
   },
   "outputs": [],
   "source": [
    "model = joblib.load(\"Titanic_Prediction.pkl\")"
   ]
  },
  {
   "cell_type": "code",
   "execution_count": 66,
   "id": "9d521524",
   "metadata": {
    "id": "9d521524"
   },
   "outputs": [],
   "source": [
    "prediction = model.predict(x_test)"
   ]
  },
  {
   "cell_type": "code",
   "execution_count": 67,
   "id": "4e86c4f2",
   "metadata": {
    "id": "4e86c4f2",
    "outputId": "c756ddb5-2fec-43d7-b454-f54c0fc186e8"
   },
   "outputs": [
    {
     "data": {
      "text/html": [
       "<div>\n",
       "<style scoped>\n",
       "    .dataframe tbody tr th:only-of-type {\n",
       "        vertical-align: middle;\n",
       "    }\n",
       "\n",
       "    .dataframe tbody tr th {\n",
       "        vertical-align: top;\n",
       "    }\n",
       "\n",
       "    .dataframe thead th {\n",
       "        text-align: right;\n",
       "    }\n",
       "</style>\n",
       "<table border=\"1\" class=\"dataframe\">\n",
       "  <thead>\n",
       "    <tr style=\"text-align: right;\">\n",
       "      <th></th>\n",
       "      <th>0</th>\n",
       "    </tr>\n",
       "  </thead>\n",
       "  <tbody>\n",
       "    <tr>\n",
       "      <th>0</th>\n",
       "      <td>0</td>\n",
       "    </tr>\n",
       "    <tr>\n",
       "      <th>1</th>\n",
       "      <td>1</td>\n",
       "    </tr>\n",
       "    <tr>\n",
       "      <th>2</th>\n",
       "      <td>0</td>\n",
       "    </tr>\n",
       "    <tr>\n",
       "      <th>3</th>\n",
       "      <td>0</td>\n",
       "    </tr>\n",
       "    <tr>\n",
       "      <th>4</th>\n",
       "      <td>1</td>\n",
       "    </tr>\n",
       "    <tr>\n",
       "      <th>...</th>\n",
       "      <td>...</td>\n",
       "    </tr>\n",
       "    <tr>\n",
       "      <th>318</th>\n",
       "      <td>1</td>\n",
       "    </tr>\n",
       "    <tr>\n",
       "      <th>319</th>\n",
       "      <td>0</td>\n",
       "    </tr>\n",
       "    <tr>\n",
       "      <th>320</th>\n",
       "      <td>1</td>\n",
       "    </tr>\n",
       "    <tr>\n",
       "      <th>321</th>\n",
       "      <td>1</td>\n",
       "    </tr>\n",
       "    <tr>\n",
       "      <th>322</th>\n",
       "      <td>1</td>\n",
       "    </tr>\n",
       "  </tbody>\n",
       "</table>\n",
       "<p>323 rows × 1 columns</p>\n",
       "</div>"
      ],
      "text/plain": [
       "     0\n",
       "0    0\n",
       "1    1\n",
       "2    0\n",
       "3    0\n",
       "4    1\n",
       "..  ..\n",
       "318  1\n",
       "319  0\n",
       "320  1\n",
       "321  1\n",
       "322  1\n",
       "\n",
       "[323 rows x 1 columns]"
      ]
     },
     "execution_count": 67,
     "metadata": {},
     "output_type": "execute_result"
    }
   ],
   "source": [
    "prediction=pd.DataFrame(prediction)\n",
    "prediction"
   ]
  }
 ],
 "metadata": {
  "colab": {
   "collapsed_sections": [
    "60efa41c"
   ],
   "name": "rgsdgdrgd.ipynb",
   "provenance": []
  },
  "kernelspec": {
   "display_name": "Python 3",
   "language": "python",
   "name": "python3"
  },
  "language_info": {
   "codemirror_mode": {
    "name": "ipython",
    "version": 3
   },
   "file_extension": ".py",
   "mimetype": "text/x-python",
   "name": "python",
   "nbconvert_exporter": "python",
   "pygments_lexer": "ipython3",
   "version": "3.8.5"
  }
 },
 "nbformat": 4,
 "nbformat_minor": 5
}
